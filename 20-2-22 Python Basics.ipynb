{
 "cells": [
  {
   "cell_type": "code",
   "execution_count": null,
   "id": "91adc4b1",
   "metadata": {},
   "outputs": [],
   "source": [
    "# Python Basics\n",
    "# Introduction\n",
    "# Guido Van Russom 1991\n",
    "# Python is a interpreted, object oriented high level programming language\n",
    "# Compiled- Code--> Compiler--> MLC -->Executed\n",
    "# Interpreted- Code--> Interpreter--> Line-wise execution\n",
    "# OOPs                                         POP\n",
    "# based on classes, objects                    based on functions\n",
    "# C++,Java,Python                               C , Pascal, Python\n",
    "# Python is general purpose language that supports both OOPS and POP\n"
   ]
  },
  {
   "cell_type": "code",
   "execution_count": null,
   "id": "54eeacf3",
   "metadata": {},
   "outputs": [],
   "source": [
    "''' Variables-> a memory location which will store some values or information\n",
    "    Syntax: varname=value or information\n",
    "    = assignement operator-> to assign the value to a variable\n",
    "    Literal-> the value or information that will be stored onto a variable"
   ]
  },
  {
   "cell_type": "code",
   "execution_count": 4,
   "id": "517e1631",
   "metadata": {},
   "outputs": [
    {
     "data": {
      "text/plain": [
       "10"
      ]
     },
     "execution_count": 4,
     "metadata": {},
     "output_type": "execute_result"
    }
   ],
   "source": [
    "a=10\n",
    "a\n",
    "# a -> variable\n",
    "# 10 -> literal"
   ]
  },
  {
   "cell_type": "code",
   "execution_count": 5,
   "id": "999cb796",
   "metadata": {},
   "outputs": [
    {
     "data": {
      "text/plain": [
       "'Hello'"
      ]
     },
     "execution_count": 5,
     "metadata": {},
     "output_type": "execute_result"
    }
   ],
   "source": [
    "b='Hello' #b -> variable hello-> literal\n",
    "b"
   ]
  },
  {
   "cell_type": "code",
   "execution_count": 6,
   "id": "f3d8b30f",
   "metadata": {},
   "outputs": [
    {
     "name": "stdout",
     "output_type": "stream",
     "text": [
      "10\n"
     ]
    }
   ],
   "source": [
    "print(a)"
   ]
  },
  {
   "cell_type": "code",
   "execution_count": 7,
   "id": "f5a3873d",
   "metadata": {},
   "outputs": [
    {
     "name": "stdout",
     "output_type": "stream",
     "text": [
      "Hello\n"
     ]
    }
   ],
   "source": [
    "print(b)"
   ]
  },
  {
   "cell_type": "code",
   "execution_count": null,
   "id": "17151bfa",
   "metadata": {},
   "outputs": [],
   "source": [
    "# duck typing-> automatically determining the type of variable "
   ]
  },
  {
   "cell_type": "code",
   "execution_count": null,
   "id": "cdab7efe",
   "metadata": {},
   "outputs": [],
   "source": [
    "# type()-> to check the type of value assigned to a variable"
   ]
  },
  {
   "cell_type": "code",
   "execution_count": 8,
   "id": "384b35f6",
   "metadata": {},
   "outputs": [
    {
     "data": {
      "text/plain": [
       "int"
      ]
     },
     "execution_count": 8,
     "metadata": {},
     "output_type": "execute_result"
    }
   ],
   "source": [
    "type(a)"
   ]
  },
  {
   "cell_type": "code",
   "execution_count": 9,
   "id": "16f7d0f4",
   "metadata": {},
   "outputs": [
    {
     "data": {
      "text/plain": [
       "str"
      ]
     },
     "execution_count": 9,
     "metadata": {},
     "output_type": "execute_result"
    }
   ],
   "source": [
    "type(b)"
   ]
  },
  {
   "cell_type": "code",
   "execution_count": null,
   "id": "df74adda",
   "metadata": {},
   "outputs": [],
   "source": [
    "# Rules for naming a variable\n",
    "# 1. keywords cannot be used as variable names - def, class, True, False, import\n",
    "# 2. variable name can start with a letter or an underscore'_' but never with a number\n",
    "# 3. no special symbols except underscore would be allowed in variable names"
   ]
  },
  {
   "cell_type": "code",
   "execution_count": 10,
   "id": "d50412d3",
   "metadata": {},
   "outputs": [
    {
     "ename": "SyntaxError",
     "evalue": "invalid syntax (<ipython-input-10-58f65e71a0cd>, line 1)",
     "output_type": "error",
     "traceback": [
      "\u001b[1;36m  File \u001b[1;32m\"<ipython-input-10-58f65e71a0cd>\"\u001b[1;36m, line \u001b[1;32m1\u001b[0m\n\u001b[1;33m    def=100\u001b[0m\n\u001b[1;37m       ^\u001b[0m\n\u001b[1;31mSyntaxError\u001b[0m\u001b[1;31m:\u001b[0m invalid syntax\n"
     ]
    }
   ],
   "source": [
    "def=100"
   ]
  },
  {
   "cell_type": "code",
   "execution_count": 11,
   "id": "e2864d0f",
   "metadata": {},
   "outputs": [
    {
     "ename": "SyntaxError",
     "evalue": "invalid syntax (<ipython-input-11-c3da92c4cca7>, line 1)",
     "output_type": "error",
     "traceback": [
      "\u001b[1;36m  File \u001b[1;32m\"<ipython-input-11-c3da92c4cca7>\"\u001b[1;36m, line \u001b[1;32m1\u001b[0m\n\u001b[1;33m    3x=234\u001b[0m\n\u001b[1;37m     ^\u001b[0m\n\u001b[1;31mSyntaxError\u001b[0m\u001b[1;31m:\u001b[0m invalid syntax\n"
     ]
    }
   ],
   "source": [
    "3x=234"
   ]
  },
  {
   "cell_type": "code",
   "execution_count": 12,
   "id": "13f9197d",
   "metadata": {},
   "outputs": [],
   "source": [
    "var1=100"
   ]
  },
  {
   "cell_type": "code",
   "execution_count": 13,
   "id": "3fafc133",
   "metadata": {},
   "outputs": [],
   "source": [
    "_var1=1234"
   ]
  },
  {
   "cell_type": "code",
   "execution_count": 14,
   "id": "c3712e1b",
   "metadata": {},
   "outputs": [
    {
     "ename": "SyntaxError",
     "evalue": "invalid syntax (<ipython-input-14-8744a5cfb5e4>, line 1)",
     "output_type": "error",
     "traceback": [
      "\u001b[1;36m  File \u001b[1;32m\"<ipython-input-14-8744a5cfb5e4>\"\u001b[1;36m, line \u001b[1;32m1\u001b[0m\n\u001b[1;33m    $var='hi'\u001b[0m\n\u001b[1;37m    ^\u001b[0m\n\u001b[1;31mSyntaxError\u001b[0m\u001b[1;31m:\u001b[0m invalid syntax\n"
     ]
    }
   ],
   "source": [
    "$var='hi'"
   ]
  },
  {
   "cell_type": "code",
   "execution_count": 15,
   "id": "cbc5f91a",
   "metadata": {},
   "outputs": [
    {
     "ename": "SyntaxError",
     "evalue": "invalid syntax (<ipython-input-15-d26a7a63f921>, line 1)",
     "output_type": "error",
     "traceback": [
      "\u001b[1;36m  File \u001b[1;32m\"<ipython-input-15-d26a7a63f921>\"\u001b[1;36m, line \u001b[1;32m1\u001b[0m\n\u001b[1;33m    &a=10\u001b[0m\n\u001b[1;37m    ^\u001b[0m\n\u001b[1;31mSyntaxError\u001b[0m\u001b[1;31m:\u001b[0m invalid syntax\n"
     ]
    }
   ],
   "source": [
    "&a=10"
   ]
  },
  {
   "cell_type": "code",
   "execution_count": 16,
   "id": "375c69b9",
   "metadata": {},
   "outputs": [],
   "source": [
    "var_1='shreya'"
   ]
  },
  {
   "cell_type": "code",
   "execution_count": 17,
   "id": "4e7e75e0",
   "metadata": {},
   "outputs": [
    {
     "ename": "SyntaxError",
     "evalue": "invalid syntax (<ipython-input-17-ae1f7841a17d>, line 1)",
     "output_type": "error",
     "traceback": [
      "\u001b[1;36m  File \u001b[1;32m\"<ipython-input-17-ae1f7841a17d>\"\u001b[1;36m, line \u001b[1;32m1\u001b[0m\n\u001b[1;33m    var$1='utkarsh'\u001b[0m\n\u001b[1;37m       ^\u001b[0m\n\u001b[1;31mSyntaxError\u001b[0m\u001b[1;31m:\u001b[0m invalid syntax\n"
     ]
    }
   ],
   "source": [
    "var$1='utkarsh'"
   ]
  },
  {
   "cell_type": "code",
   "execution_count": 19,
   "id": "d2b24e5c",
   "metadata": {},
   "outputs": [
    {
     "name": "stdout",
     "output_type": "stream",
     "text": [
      "100 200\n"
     ]
    }
   ],
   "source": [
    "# Python is case sensitive\n",
    "a=100\n",
    "A=200\n",
    "print(a,A)"
   ]
  },
  {
   "cell_type": "code",
   "execution_count": 20,
   "id": "4fa28c40",
   "metadata": {},
   "outputs": [
    {
     "ename": "NameError",
     "evalue": "name 'Print' is not defined",
     "output_type": "error",
     "traceback": [
      "\u001b[1;31m---------------------------------------------------------------------------\u001b[0m",
      "\u001b[1;31mNameError\u001b[0m                                 Traceback (most recent call last)",
      "\u001b[1;32m<ipython-input-20-2687b4e76f06>\u001b[0m in \u001b[0;36m<module>\u001b[1;34m\u001b[0m\n\u001b[1;32m----> 1\u001b[1;33m \u001b[0mPrint\u001b[0m\u001b[1;33m(\u001b[0m\u001b[0ma\u001b[0m\u001b[1;33m,\u001b[0m\u001b[0mA\u001b[0m\u001b[1;33m)\u001b[0m\u001b[1;33m\u001b[0m\u001b[1;33m\u001b[0m\u001b[0m\n\u001b[0m",
      "\u001b[1;31mNameError\u001b[0m: name 'Print' is not defined"
     ]
    }
   ],
   "source": [
    "Print(a,A)"
   ]
  },
  {
   "cell_type": "code",
   "execution_count": null,
   "id": "ab5ee23f",
   "metadata": {},
   "outputs": [],
   "source": [
    "# Operators -> symbol which will perform some kind of operation\n",
    "# Arithmetic operators-> +,-,*,/,%,**\n",
    "# Assignment operators-> =, +=,-=,*=,/=\n",
    "# Comparision operators-> ==,!=,>,<,>=,<=\n",
    "# Logical operators-> and, or, not\n",
    "    # and-> a and b, o/p True if both a and b are true\n",
    "    # or-> a or b, o/p  True if any one of the statements is ytrue\n",
    "    # not-> reverse the result, if True returns false if false returns true\n",
    "# Bitwise operators-> &,|,^,~,<<,>>    "
   ]
  },
  {
   "cell_type": "code",
   "execution_count": 26,
   "id": "0529502d",
   "metadata": {},
   "outputs": [
    {
     "data": {
      "text/plain": [
       "5"
      ]
     },
     "execution_count": 26,
     "metadata": {},
     "output_type": "execute_result"
    }
   ],
   "source": [
    "x=5\n",
    "x"
   ]
  },
  {
   "cell_type": "code",
   "execution_count": 27,
   "id": "54dbf734",
   "metadata": {},
   "outputs": [],
   "source": [
    "x+=5\n",
    "#x=x+5\n",
    "#x=x-5\n",
    "#x=x*5\n",
    "#x=x/5"
   ]
  },
  {
   "cell_type": "code",
   "execution_count": 28,
   "id": "ff16ae80",
   "metadata": {},
   "outputs": [
    {
     "data": {
      "text/plain": [
       "10"
      ]
     },
     "execution_count": 28,
     "metadata": {},
     "output_type": "execute_result"
    }
   ],
   "source": [
    "x"
   ]
  },
  {
   "cell_type": "code",
   "execution_count": null,
   "id": "b8449c3c",
   "metadata": {},
   "outputs": [],
   "source": [
    "#a b-> a&b  a|b  a^b  ~a  ~b \n",
    " 0 0-> 0    0     0    1   1\n",
    " 0 1-> 0    1     1    1   0\n",
    " 1 0-> 0    1     1    0   1\n",
    " 1 1-> 1    1     0    0   0"
   ]
  },
  {
   "cell_type": "code",
   "execution_count": null,
   "id": "682778e4",
   "metadata": {},
   "outputs": [],
   "source": [
    "# Left shift\n",
    "a=5=  0101\n",
    "a<<1\n",
    "1010\n",
    "\n",
    "# Right shift\n",
    "a=5\n",
    "a>>1\n",
    "0010"
   ]
  },
  {
   "cell_type": "code",
   "execution_count": null,
   "id": "95ed76be",
   "metadata": {},
   "outputs": [],
   "source": [
    "# Assigning values to a variable\n",
    "# Static way-> information is assigned manually while typing th eprogram\n",
    "v='Azhar'\n",
    "# Dynamic way-> information will be assigned to the varaible during run time of program\n",
    "# Syntax: varname=input()\n",
    "# input()-> inbuilt function whcih will fetch the inputs from the user dynamically"
   ]
  },
  {
   "cell_type": "code",
   "execution_count": 6,
   "id": "1b8a8b87",
   "metadata": {},
   "outputs": [
    {
     "name": "stdout",
     "output_type": "stream",
     "text": [
      "enter a number12.3\n"
     ]
    }
   ],
   "source": [
    "v1=input('enter a number')"
   ]
  },
  {
   "cell_type": "code",
   "execution_count": 7,
   "id": "f8c8e362",
   "metadata": {},
   "outputs": [
    {
     "data": {
      "text/plain": [
       "'12.3'"
      ]
     },
     "execution_count": 7,
     "metadata": {},
     "output_type": "execute_result"
    }
   ],
   "source": [
    "v1"
   ]
  },
  {
   "cell_type": "code",
   "execution_count": 8,
   "id": "0c4d9822",
   "metadata": {},
   "outputs": [
    {
     "data": {
      "text/plain": [
       "str"
      ]
     },
     "execution_count": 8,
     "metadata": {},
     "output_type": "execute_result"
    }
   ],
   "source": [
    "type(v1)"
   ]
  },
  {
   "cell_type": "code",
   "execution_count": null,
   "id": "276cfbab",
   "metadata": {},
   "outputs": [],
   "source": [
    "# Type casting -> process of converting one data format to other\n",
    "# str->int\n",
    "# Syntax= varname=int(input())\n",
    "\n",
    "# str-> float\n",
    "# Syntax= varname=float(input())"
   ]
  },
  {
   "cell_type": "code",
   "execution_count": 12,
   "id": "f512940a",
   "metadata": {},
   "outputs": [
    {
     "name": "stdout",
     "output_type": "stream",
     "text": [
      "enter a numbershreya\n"
     ]
    },
    {
     "ename": "ValueError",
     "evalue": "invalid literal for int() with base 10: 'shreya'",
     "output_type": "error",
     "traceback": [
      "\u001b[1;31m---------------------------------------------------------------------------\u001b[0m",
      "\u001b[1;31mValueError\u001b[0m                                Traceback (most recent call last)",
      "\u001b[1;32m<ipython-input-12-627cda18ead0>\u001b[0m in \u001b[0;36m<module>\u001b[1;34m\u001b[0m\n\u001b[1;32m----> 1\u001b[1;33m \u001b[0mv2\u001b[0m\u001b[1;33m=\u001b[0m\u001b[0mint\u001b[0m\u001b[1;33m(\u001b[0m\u001b[0minput\u001b[0m\u001b[1;33m(\u001b[0m\u001b[1;34m'enter a number'\u001b[0m\u001b[1;33m)\u001b[0m\u001b[1;33m)\u001b[0m\u001b[1;33m\u001b[0m\u001b[1;33m\u001b[0m\u001b[0m\n\u001b[0m",
      "\u001b[1;31mValueError\u001b[0m: invalid literal for int() with base 10: 'shreya'"
     ]
    }
   ],
   "source": [
    "v2=int(input('enter a number'))"
   ]
  },
  {
   "cell_type": "code",
   "execution_count": 10,
   "id": "9931287d",
   "metadata": {},
   "outputs": [
    {
     "data": {
      "text/plain": [
       "100"
      ]
     },
     "execution_count": 10,
     "metadata": {},
     "output_type": "execute_result"
    }
   ],
   "source": [
    "v2"
   ]
  },
  {
   "cell_type": "code",
   "execution_count": 11,
   "id": "8cfa583b",
   "metadata": {},
   "outputs": [
    {
     "data": {
      "text/plain": [
       "int"
      ]
     },
     "execution_count": 11,
     "metadata": {},
     "output_type": "execute_result"
    }
   ],
   "source": [
    "type(v2)"
   ]
  },
  {
   "cell_type": "code",
   "execution_count": 15,
   "id": "80a80f47",
   "metadata": {},
   "outputs": [
    {
     "name": "stdout",
     "output_type": "stream",
     "text": [
      "enter a number 23.4\n"
     ]
    }
   ],
   "source": [
    "v3=float(input('enter a number'))"
   ]
  },
  {
   "cell_type": "code",
   "execution_count": 18,
   "id": "f89cae97",
   "metadata": {},
   "outputs": [
    {
     "data": {
      "text/plain": [
       "str"
      ]
     },
     "execution_count": 18,
     "metadata": {},
     "output_type": "execute_result"
    }
   ],
   "source": [
    "v3\n",
    "v4='s'\n",
    "type(v4)"
   ]
  },
  {
   "cell_type": "code",
   "execution_count": 20,
   "id": "a8b89b2e",
   "metadata": {},
   "outputs": [
    {
     "name": "stdout",
     "output_type": "stream",
     "text": [
      "0\n"
     ]
    }
   ],
   "source": [
    "# Data type--> types of data the variable has been assigned with\n",
    "# Basic datatypes-> int(10), float(12.3),char('s')/str('shreya'),bool(True=1,False=0)\n",
    "a=100\n",
    "b=123.34\n",
    "c='s'\n",
    "d='Intellipaat'\n",
    "e=True # 1\n",
    "f=False # 0\n",
    "g=e*f # 1+0=1\n",
    "print(g)"
   ]
  },
  {
   "cell_type": "code",
   "execution_count": null,
   "id": "fecbf227",
   "metadata": {},
   "outputs": [],
   "source": [
    "# Collective datatypes-> collection of values or information\n",
    "# Mutable-> information or value can be altered or changed after declaration-> List, Dictionary, Set\n",
    "# Immutable-> information or value cannot be altered after declaration-> Strings, Tuples"
   ]
  },
  {
   "cell_type": "code",
   "execution_count": 21,
   "id": "f3fefb30",
   "metadata": {},
   "outputs": [
    {
     "name": "stdout",
     "output_type": "stream",
     "text": [
      "Hello Hi\n"
     ]
    }
   ],
   "source": [
    "# Strings-> collection of characters\n",
    "# Syntax: varname='value' or \"value\"\n",
    "s1=\"Hello\"  #-> 'Hallo'\n",
    "s2='Hi'\n",
    "print(s1,s2)"
   ]
  },
  {
   "cell_type": "code",
   "execution_count": 22,
   "id": "16a64705",
   "metadata": {},
   "outputs": [
    {
     "data": {
      "text/plain": [
       "str"
      ]
     },
     "execution_count": 22,
     "metadata": {},
     "output_type": "execute_result"
    }
   ],
   "source": [
    "type(s1)"
   ]
  },
  {
   "cell_type": "code",
   "execution_count": null,
   "id": "a54d697e",
   "metadata": {},
   "outputs": [],
   "source": [
    "# Indexing and Slicing\n",
    "# Index-> positional value of an element inside a collection\n",
    "# Indexing-> the process of extracting or accessing an individual element from a collection\n",
    "# SYntax: varname[index_value]\n",
    "# TYPES-> Forward/Regular-> start with 0 (left to right)\n",
    "#      -> Reverse/Negative-> start with -1 (right to left)\n",
    "# Slicing-> the  process of extracting or accessing multiple elements from a collection\n",
    "# SYntax: varname[start:end+1]"
   ]
  },
  {
   "cell_type": "code",
   "execution_count": 23,
   "id": "9ecc057f",
   "metadata": {},
   "outputs": [],
   "source": [
    "s=\"Intellipaat\""
   ]
  },
  {
   "cell_type": "code",
   "execution_count": null,
   "id": "eb439255",
   "metadata": {},
   "outputs": [],
   "source": [
    "# len()-> number of elements in a collective datatype"
   ]
  },
  {
   "cell_type": "code",
   "execution_count": 24,
   "id": "6024a90d",
   "metadata": {},
   "outputs": [
    {
     "data": {
      "text/plain": [
       "11"
      ]
     },
     "execution_count": 24,
     "metadata": {},
     "output_type": "execute_result"
    }
   ],
   "source": [
    "len(s)"
   ]
  },
  {
   "cell_type": "code",
   "execution_count": null,
   "id": "4fdebe74",
   "metadata": {},
   "outputs": [],
   "source": [
    "#  0    1    2    3    4    5    6    7    8    9    10 -> Forward indexing  \n",
    "#  I    N    T    E    L    L    I    P    A    A    T\n",
    "# -11  -10  -9   -8   -7   -6   -5   -4   -3   -2   -1  <- Reverse indexing"
   ]
  },
  {
   "cell_type": "code",
   "execution_count": 38,
   "id": "fdccef86",
   "metadata": {},
   "outputs": [
    {
     "data": {
      "text/plain": [
       "'e'"
      ]
     },
     "execution_count": 38,
     "metadata": {},
     "output_type": "execute_result"
    }
   ],
   "source": [
    "s[3]"
   ]
  },
  {
   "cell_type": "code",
   "execution_count": 37,
   "id": "9a9455be",
   "metadata": {},
   "outputs": [
    {
     "ename": "TypeError",
     "evalue": "'str' object does not support item assignment",
     "output_type": "error",
     "traceback": [
      "\u001b[1;31m---------------------------------------------------------------------------\u001b[0m",
      "\u001b[1;31mTypeError\u001b[0m                                 Traceback (most recent call last)",
      "\u001b[1;32m<ipython-input-37-1d84d5b091e8>\u001b[0m in \u001b[0;36m<module>\u001b[1;34m\u001b[0m\n\u001b[1;32m----> 1\u001b[1;33m \u001b[0ms\u001b[0m\u001b[1;33m[\u001b[0m\u001b[1;36m3\u001b[0m\u001b[1;33m]\u001b[0m\u001b[1;33m=\u001b[0m\u001b[1;34m'a'\u001b[0m\u001b[1;33m\u001b[0m\u001b[1;33m\u001b[0m\u001b[0m\n\u001b[0m",
      "\u001b[1;31mTypeError\u001b[0m: 'str' object does not support item assignment"
     ]
    }
   ],
   "source": [
    "s[3]='a'"
   ]
  },
  {
   "cell_type": "code",
   "execution_count": 28,
   "id": "edec4370",
   "metadata": {},
   "outputs": [
    {
     "data": {
      "text/plain": [
       "'Intel'"
      ]
     },
     "execution_count": 28,
     "metadata": {},
     "output_type": "execute_result"
    }
   ],
   "source": [
    "s[0:5]"
   ]
  },
  {
   "cell_type": "code",
   "execution_count": 33,
   "id": "87e4f001",
   "metadata": {},
   "outputs": [
    {
     "data": {
      "text/plain": [
       "'Intel'"
      ]
     },
     "execution_count": 33,
     "metadata": {},
     "output_type": "execute_result"
    }
   ],
   "source": [
    "s[-11:-6]"
   ]
  },
  {
   "cell_type": "code",
   "execution_count": 34,
   "id": "f8e53376",
   "metadata": {},
   "outputs": [
    {
     "data": {
      "text/plain": [
       "'Intel'"
      ]
     },
     "execution_count": 34,
     "metadata": {},
     "output_type": "execute_result"
    }
   ],
   "source": [
    "s[0:-6]"
   ]
  },
  {
   "cell_type": "code",
   "execution_count": 35,
   "id": "df98389e",
   "metadata": {},
   "outputs": [
    {
     "data": {
      "text/plain": [
       "'Intel'"
      ]
     },
     "execution_count": 35,
     "metadata": {},
     "output_type": "execute_result"
    }
   ],
   "source": [
    "s[-11:5]"
   ]
  },
  {
   "cell_type": "code",
   "execution_count": 29,
   "id": "ba42e931",
   "metadata": {},
   "outputs": [
    {
     "data": {
      "text/plain": [
       "'paat'"
      ]
     },
     "execution_count": 29,
     "metadata": {},
     "output_type": "execute_result"
    }
   ],
   "source": [
    "s[7:11]"
   ]
  },
  {
   "cell_type": "code",
   "execution_count": 30,
   "id": "4af787a9",
   "metadata": {},
   "outputs": [
    {
     "data": {
      "text/plain": [
       "'Intellipaat'"
      ]
     },
     "execution_count": 30,
     "metadata": {},
     "output_type": "execute_result"
    }
   ],
   "source": [
    "s[:]"
   ]
  },
  {
   "cell_type": "code",
   "execution_count": 31,
   "id": "1d5ccc01",
   "metadata": {},
   "outputs": [
    {
     "data": {
      "text/plain": [
       "'Intel'"
      ]
     },
     "execution_count": 31,
     "metadata": {},
     "output_type": "execute_result"
    }
   ],
   "source": [
    "s[:5]"
   ]
  },
  {
   "cell_type": "code",
   "execution_count": 32,
   "id": "54c8dec0",
   "metadata": {},
   "outputs": [
    {
     "data": {
      "text/plain": [
       "'paat'"
      ]
     },
     "execution_count": 32,
     "metadata": {},
     "output_type": "execute_result"
    }
   ],
   "source": [
    "s[7:]"
   ]
  },
  {
   "cell_type": "code",
   "execution_count": null,
   "id": "6b8c027f",
   "metadata": {},
   "outputs": [],
   "source": [
    "# Tuples-> set of heterogenous elements (different data types)\n",
    "# Syntax: varname=(elements)"
   ]
  },
  {
   "cell_type": "code",
   "execution_count": 31,
   "id": "0d368a68",
   "metadata": {},
   "outputs": [],
   "source": [
    "t1=(1,2,3,'python',23.4,True,False,'diversity',(22,32,42),[13,14,15])"
   ]
  },
  {
   "cell_type": "code",
   "execution_count": 79,
   "id": "141590ff",
   "metadata": {},
   "outputs": [],
   "source": [
    "t1[9][1]=20"
   ]
  },
  {
   "cell_type": "code",
   "execution_count": 50,
   "id": "a86a0b9b",
   "metadata": {},
   "outputs": [
    {
     "data": {
      "text/plain": [
       "tuple"
      ]
     },
     "execution_count": 50,
     "metadata": {},
     "output_type": "execute_result"
    }
   ],
   "source": [
    "type(t1)"
   ]
  },
  {
   "cell_type": "code",
   "execution_count": 51,
   "id": "fd426be3",
   "metadata": {},
   "outputs": [
    {
     "data": {
      "text/plain": [
       "9"
      ]
     },
     "execution_count": 51,
     "metadata": {},
     "output_type": "execute_result"
    }
   ],
   "source": [
    "len(t1)"
   ]
  },
  {
   "cell_type": "code",
   "execution_count": 44,
   "id": "26f12ab9",
   "metadata": {},
   "outputs": [
    {
     "data": {
      "text/plain": [
       "'python'"
      ]
     },
     "execution_count": 44,
     "metadata": {},
     "output_type": "execute_result"
    }
   ],
   "source": [
    "t1[3]"
   ]
  },
  {
   "cell_type": "code",
   "execution_count": 48,
   "id": "4a0880cd",
   "metadata": {},
   "outputs": [
    {
     "data": {
      "text/plain": [
       "'t'"
      ]
     },
     "execution_count": 48,
     "metadata": {},
     "output_type": "execute_result"
    }
   ],
   "source": [
    "t1[3][2]"
   ]
  },
  {
   "cell_type": "code",
   "execution_count": 43,
   "id": "7345cfc6",
   "metadata": {},
   "outputs": [
    {
     "ename": "TypeError",
     "evalue": "'tuple' object does not support item assignment",
     "output_type": "error",
     "traceback": [
      "\u001b[1;31m---------------------------------------------------------------------------\u001b[0m",
      "\u001b[1;31mTypeError\u001b[0m                                 Traceback (most recent call last)",
      "\u001b[1;32m<ipython-input-43-4045c30764c2>\u001b[0m in \u001b[0;36m<module>\u001b[1;34m\u001b[0m\n\u001b[1;32m----> 1\u001b[1;33m \u001b[0mt1\u001b[0m\u001b[1;33m[\u001b[0m\u001b[1;36m3\u001b[0m\u001b[1;33m]\u001b[0m\u001b[1;33m=\u001b[0m\u001b[1;34m'java'\u001b[0m\u001b[1;33m\u001b[0m\u001b[1;33m\u001b[0m\u001b[0m\n\u001b[0m",
      "\u001b[1;31mTypeError\u001b[0m: 'tuple' object does not support item assignment"
     ]
    }
   ],
   "source": [
    "t1[3]='java'"
   ]
  },
  {
   "cell_type": "code",
   "execution_count": 46,
   "id": "7296d826",
   "metadata": {},
   "outputs": [
    {
     "data": {
      "text/plain": [
       "(2, 3, 'python', 23.4, True)"
      ]
     },
     "execution_count": 46,
     "metadata": {},
     "output_type": "execute_result"
    }
   ],
   "source": [
    "t1[1:-2]"
   ]
  },
  {
   "cell_type": "code",
   "execution_count": 47,
   "id": "cecb94a9",
   "metadata": {},
   "outputs": [
    {
     "data": {
      "text/plain": [
       "(2, 3, 'python', 23.4, True)"
      ]
     },
     "execution_count": 47,
     "metadata": {},
     "output_type": "execute_result"
    }
   ],
   "source": [
    "t1[1:6]"
   ]
  },
  {
   "cell_type": "code",
   "execution_count": 52,
   "id": "8a9e7444",
   "metadata": {},
   "outputs": [
    {
     "data": {
      "text/plain": [
       "(22, 32, 42)"
      ]
     },
     "execution_count": 52,
     "metadata": {},
     "output_type": "execute_result"
    }
   ],
   "source": [
    "t1[8]"
   ]
  },
  {
   "cell_type": "code",
   "execution_count": 53,
   "id": "76741a55",
   "metadata": {},
   "outputs": [
    {
     "data": {
      "text/plain": [
       "42"
      ]
     },
     "execution_count": 53,
     "metadata": {},
     "output_type": "execute_result"
    }
   ],
   "source": [
    "t1[8][2]"
   ]
  },
  {
   "cell_type": "code",
   "execution_count": null,
   "id": "463a9a48",
   "metadata": {},
   "outputs": [],
   "source": [
    "# List-> set of heterogenous elements\n",
    "# SYntax: varname=[elements]"
   ]
  },
  {
   "cell_type": "code",
   "execution_count": 1,
   "id": "e9a7829f",
   "metadata": {},
   "outputs": [],
   "source": [
    "l1=[1,2,3,'python',23.4,True,False,'diversity',(22,32,42)]"
   ]
  },
  {
   "cell_type": "code",
   "execution_count": 60,
   "id": "a1dabc23",
   "metadata": {},
   "outputs": [
    {
     "data": {
      "text/plain": [
       "list"
      ]
     },
     "execution_count": 60,
     "metadata": {},
     "output_type": "execute_result"
    }
   ],
   "source": [
    "type(l1)"
   ]
  },
  {
   "cell_type": "code",
   "execution_count": 61,
   "id": "7082216e",
   "metadata": {},
   "outputs": [
    {
     "data": {
      "text/plain": [
       "'python'"
      ]
     },
     "execution_count": 61,
     "metadata": {},
     "output_type": "execute_result"
    }
   ],
   "source": [
    "l1[3]"
   ]
  },
  {
   "cell_type": "code",
   "execution_count": 62,
   "id": "a3484a5d",
   "metadata": {},
   "outputs": [],
   "source": [
    "l1[3]='java'"
   ]
  },
  {
   "cell_type": "code",
   "execution_count": 63,
   "id": "4e79f15c",
   "metadata": {},
   "outputs": [
    {
     "data": {
      "text/plain": [
       "[1, 2, 3, 'java', 23.4, True, False, 'diversity', (22, 32, 42)]"
      ]
     },
     "execution_count": 63,
     "metadata": {},
     "output_type": "execute_result"
    }
   ],
   "source": [
    "l1"
   ]
  },
  {
   "cell_type": "code",
   "execution_count": 64,
   "id": "1afd6e1b",
   "metadata": {},
   "outputs": [
    {
     "data": {
      "text/plain": [
       "['java', 23.4, True, False, 'diversity']"
      ]
     },
     "execution_count": 64,
     "metadata": {},
     "output_type": "execute_result"
    }
   ],
   "source": [
    "l1[3:8]"
   ]
  },
  {
   "cell_type": "code",
   "execution_count": 67,
   "id": "07bbbc1c",
   "metadata": {},
   "outputs": [
    {
     "data": {
      "text/plain": [
       "'java'"
      ]
     },
     "execution_count": 67,
     "metadata": {},
     "output_type": "execute_result"
    }
   ],
   "source": [
    "l1[3]"
   ]
  },
  {
   "cell_type": "code",
   "execution_count": 68,
   "id": "218df038",
   "metadata": {},
   "outputs": [
    {
     "ename": "TypeError",
     "evalue": "'str' object does not support item assignment",
     "output_type": "error",
     "traceback": [
      "\u001b[1;31m---------------------------------------------------------------------------\u001b[0m",
      "\u001b[1;31mTypeError\u001b[0m                                 Traceback (most recent call last)",
      "\u001b[1;32m<ipython-input-68-1adf92df2ac1>\u001b[0m in \u001b[0;36m<module>\u001b[1;34m\u001b[0m\n\u001b[1;32m----> 1\u001b[1;33m \u001b[0ml1\u001b[0m\u001b[1;33m[\u001b[0m\u001b[1;36m3\u001b[0m\u001b[1;33m]\u001b[0m\u001b[1;33m[\u001b[0m\u001b[1;36m1\u001b[0m\u001b[1;33m]\u001b[0m\u001b[1;33m=\u001b[0m\u001b[1;34m'i'\u001b[0m\u001b[1;33m\u001b[0m\u001b[1;33m\u001b[0m\u001b[0m\n\u001b[0m",
      "\u001b[1;31mTypeError\u001b[0m: 'str' object does not support item assignment"
     ]
    }
   ],
   "source": [
    "l1[3][1]='i'"
   ]
  },
  {
   "cell_type": "code",
   "execution_count": 72,
   "id": "c34e06d2",
   "metadata": {},
   "outputs": [],
   "source": [
    "l1[8]=('a','b','c')"
   ]
  },
  {
   "cell_type": "code",
   "execution_count": 74,
   "id": "e5a3452a",
   "metadata": {},
   "outputs": [
    {
     "ename": "TypeError",
     "evalue": "'tuple' object does not support item assignment",
     "output_type": "error",
     "traceback": [
      "\u001b[1;31m---------------------------------------------------------------------------\u001b[0m",
      "\u001b[1;31mTypeError\u001b[0m                                 Traceback (most recent call last)",
      "\u001b[1;32m<ipython-input-74-4920de0d4863>\u001b[0m in \u001b[0;36m<module>\u001b[1;34m\u001b[0m\n\u001b[1;32m----> 1\u001b[1;33m \u001b[0ml1\u001b[0m\u001b[1;33m[\u001b[0m\u001b[1;36m8\u001b[0m\u001b[1;33m]\u001b[0m\u001b[1;33m[\u001b[0m\u001b[1;36m1\u001b[0m\u001b[1;33m]\u001b[0m\u001b[1;33m=\u001b[0m\u001b[1;34m's'\u001b[0m\u001b[1;33m\u001b[0m\u001b[1;33m\u001b[0m\u001b[0m\n\u001b[0m",
      "\u001b[1;31mTypeError\u001b[0m: 'tuple' object does not support item assignment"
     ]
    }
   ],
   "source": [
    "l1[8][1]='s'"
   ]
  },
  {
   "cell_type": "code",
   "execution_count": 18,
   "id": "8ecf622b",
   "metadata": {},
   "outputs": [
    {
     "data": {
      "text/plain": [
       "9"
      ]
     },
     "execution_count": 18,
     "metadata": {},
     "output_type": "execute_result"
    }
   ],
   "source": [
    "l1=[1,2,3,'python',23.4,True,False,'diversity',(22,32,42)]\n",
    "len(l1)"
   ]
  },
  {
   "cell_type": "code",
   "execution_count": 20,
   "id": "8cb8d9ac",
   "metadata": {},
   "outputs": [
    {
     "data": {
      "text/plain": [
       "[1, 2, 3, 'python', 23.4, True, False, 'diversity', (22, 32, 42), 100, 100]"
      ]
     },
     "execution_count": 20,
     "metadata": {},
     "output_type": "execute_result"
    }
   ],
   "source": [
    "# To add elements into the list\n",
    "# append()-> listname.append(value)\n",
    "# insert()-> listname.insert(index,value)\n",
    "#l1=[1,2,3,'python',23.4,True,False,'diversity',(22,32,42)]\n",
    "l1.append(100)\n",
    "l1"
   ]
  },
  {
   "cell_type": "code",
   "execution_count": 13,
   "id": "37456cb5",
   "metadata": {},
   "outputs": [
    {
     "data": {
      "text/plain": [
       "[1, 2, 3, 'java', 'python', 23.4, True, False, 'diversity', (22, 32, 42), 100]"
      ]
     },
     "execution_count": 13,
     "metadata": {},
     "output_type": "execute_result"
    }
   ],
   "source": [
    "#l1=[1,2,3,'python',23.4,True,False,'diversity',(22,32,42)]\n",
    "l1.insert(3,'java')\n",
    "l1"
   ]
  },
  {
   "cell_type": "code",
   "execution_count": null,
   "id": "49b023d8",
   "metadata": {},
   "outputs": [],
   "source": [
    "# To remove elements from teh list\n",
    "# pop()-> listname.pop(index)\n",
    "# remove()-> listname.remove(value)"
   ]
  },
  {
   "cell_type": "code",
   "execution_count": 25,
   "id": "27ca327b",
   "metadata": {},
   "outputs": [
    {
     "data": {
      "text/plain": [
       "(22, 32, 42)"
      ]
     },
     "execution_count": 25,
     "metadata": {},
     "output_type": "execute_result"
    }
   ],
   "source": [
    "l1.pop(-2)"
   ]
  },
  {
   "cell_type": "code",
   "execution_count": 26,
   "id": "f8e8a9ab",
   "metadata": {},
   "outputs": [
    {
     "data": {
      "text/plain": [
       "[1, 2, 3, 'python', 23.4, True, False, 'diversity', 100]"
      ]
     },
     "execution_count": 26,
     "metadata": {},
     "output_type": "execute_result"
    }
   ],
   "source": [
    "l1"
   ]
  },
  {
   "cell_type": "code",
   "execution_count": 24,
   "id": "7632d554",
   "metadata": {},
   "outputs": [
    {
     "ename": "ValueError",
     "evalue": "list.remove(x): x not in list",
     "output_type": "error",
     "traceback": [
      "\u001b[1;31m---------------------------------------------------------------------------\u001b[0m",
      "\u001b[1;31mValueError\u001b[0m                                Traceback (most recent call last)",
      "\u001b[1;32m<ipython-input-24-7a10bf23d42a>\u001b[0m in \u001b[0;36m<module>\u001b[1;34m\u001b[0m\n\u001b[1;32m----> 1\u001b[1;33m \u001b[0ml1\u001b[0m\u001b[1;33m.\u001b[0m\u001b[0mremove\u001b[0m\u001b[1;33m(\u001b[0m\u001b[1;36m150\u001b[0m\u001b[1;33m)\u001b[0m\u001b[1;33m\u001b[0m\u001b[1;33m\u001b[0m\u001b[0m\n\u001b[0m",
      "\u001b[1;31mValueError\u001b[0m: list.remove(x): x not in list"
     ]
    }
   ],
   "source": [
    "l1.remove(150)"
   ]
  },
  {
   "cell_type": "code",
   "execution_count": 27,
   "id": "44a7c01d",
   "metadata": {},
   "outputs": [
    {
     "data": {
      "text/plain": [
       "[1, 2, 3, 'python', 23.4, True, False, 'diversity', 100]"
      ]
     },
     "execution_count": 27,
     "metadata": {},
     "output_type": "execute_result"
    }
   ],
   "source": [
    "l1"
   ]
  },
  {
   "cell_type": "code",
   "execution_count": 28,
   "id": "ab4afc67",
   "metadata": {},
   "outputs": [],
   "source": [
    "l1=[1,2,3,'python',23.4,True,False,'diversity',(22,32,42)]"
   ]
  },
  {
   "cell_type": "code",
   "execution_count": 29,
   "id": "7f74a420",
   "metadata": {},
   "outputs": [],
   "source": [
    "l2=['shreya','vishwas','deepa','neeraj']"
   ]
  },
  {
   "cell_type": "code",
   "execution_count": 30,
   "id": "8f53e83c",
   "metadata": {},
   "outputs": [
    {
     "data": {
      "text/plain": [
       "[1,\n",
       " 2,\n",
       " 3,\n",
       " 'python',\n",
       " 23.4,\n",
       " True,\n",
       " False,\n",
       " 'diversity',\n",
       " (22, 32, 42),\n",
       " 'shreya',\n",
       " 'vishwas',\n",
       " 'deepa',\n",
       " 'neeraj']"
      ]
     },
     "execution_count": 30,
     "metadata": {},
     "output_type": "execute_result"
    }
   ],
   "source": [
    "l1+l2"
   ]
  },
  {
   "cell_type": "code",
   "execution_count": null,
   "id": "7ff13a98",
   "metadata": {},
   "outputs": [],
   "source": [
    "# Dictionary-> set of heterogenous elements, store the elements in a key:value pair\n",
    "# key-> user-defined index\n",
    "# value-> elements\n",
    "# SYntax: varname={ key1:value1,key2:value2,...........,key n :value n}\n",
    "# no proper order of elements is maintained"
   ]
  },
  {
   "cell_type": "code",
   "execution_count": 44,
   "id": "4ee0161e",
   "metadata": {},
   "outputs": [
    {
     "data": {
      "text/plain": [
       "{1: 'Arjun', 'Shreya': 'Intellipaat', 13.4: 2000, False: 3000}"
      ]
     },
     "execution_count": 44,
     "metadata": {},
     "output_type": "execute_result"
    }
   ],
   "source": [
    "d1={1:'Arjun','Shreya':'Intellipaat',13.4:2000,False:3000}\n",
    "d1"
   ]
  },
  {
   "cell_type": "code",
   "execution_count": 45,
   "id": "af950560",
   "metadata": {},
   "outputs": [
    {
     "data": {
      "text/plain": [
       "dict"
      ]
     },
     "execution_count": 45,
     "metadata": {},
     "output_type": "execute_result"
    }
   ],
   "source": [
    "type(d1)"
   ]
  },
  {
   "cell_type": "code",
   "execution_count": 90,
   "id": "6f73754b",
   "metadata": {},
   "outputs": [],
   "source": [
    "d2={'names':['Aditya','Shreya','Akash','Mahesh'],'post':('Intern','Employee','Manager','Asst manager')}"
   ]
  },
  {
   "cell_type": "code",
   "execution_count": 53,
   "id": "951aa7ce",
   "metadata": {},
   "outputs": [
    {
     "data": {
      "text/plain": [
       "{'names': ['Aditya', 'Shreya', 'Akash', 'Mahesh'],\n",
       " 'post': ('Intern', 'Employee', 'Manager', 'Asst manager')}"
      ]
     },
     "execution_count": 53,
     "metadata": {},
     "output_type": "execute_result"
    }
   ],
   "source": [
    "d2"
   ]
  },
  {
   "cell_type": "code",
   "execution_count": 54,
   "id": "b47dd311",
   "metadata": {},
   "outputs": [
    {
     "data": {
      "text/plain": [
       "dict_keys([1, 'Shreya', 13.4, False])"
      ]
     },
     "execution_count": 54,
     "metadata": {},
     "output_type": "execute_result"
    }
   ],
   "source": [
    "d1.keys()"
   ]
  },
  {
   "cell_type": "code",
   "execution_count": 55,
   "id": "dd8d94b1",
   "metadata": {},
   "outputs": [
    {
     "data": {
      "text/plain": [
       "dict_keys(['names', 'post'])"
      ]
     },
     "execution_count": 55,
     "metadata": {},
     "output_type": "execute_result"
    }
   ],
   "source": [
    "d2.keys()"
   ]
  },
  {
   "cell_type": "code",
   "execution_count": 56,
   "id": "1723ad0e",
   "metadata": {},
   "outputs": [
    {
     "data": {
      "text/plain": [
       "dict_values(['Arjun', 'Intellipaat', 2000, 3000])"
      ]
     },
     "execution_count": 56,
     "metadata": {},
     "output_type": "execute_result"
    }
   ],
   "source": [
    "d1.values()"
   ]
  },
  {
   "cell_type": "code",
   "execution_count": 57,
   "id": "c7977970",
   "metadata": {},
   "outputs": [
    {
     "data": {
      "text/plain": [
       "dict_values([['Aditya', 'Shreya', 'Akash', 'Mahesh'], ('Intern', 'Employee', 'Manager', 'Asst manager')])"
      ]
     },
     "execution_count": 57,
     "metadata": {},
     "output_type": "execute_result"
    }
   ],
   "source": [
    "d2.values()"
   ]
  },
  {
   "cell_type": "code",
   "execution_count": 58,
   "id": "9905291c",
   "metadata": {},
   "outputs": [
    {
     "data": {
      "text/plain": [
       "'Arjun'"
      ]
     },
     "execution_count": 58,
     "metadata": {},
     "output_type": "execute_result"
    }
   ],
   "source": [
    "d1[1]"
   ]
  },
  {
   "cell_type": "code",
   "execution_count": 84,
   "id": "4682e9ac",
   "metadata": {},
   "outputs": [],
   "source": [
    "d2['names']=['Aditya','Manal','Akash',\"Mahesh\"]"
   ]
  },
  {
   "cell_type": "code",
   "execution_count": 85,
   "id": "0c4e0ebf",
   "metadata": {},
   "outputs": [],
   "source": [
    "d2['post']=('Intern','TL','Manager','Asst Manager')"
   ]
  },
  {
   "cell_type": "code",
   "execution_count": 86,
   "id": "40f9d735",
   "metadata": {},
   "outputs": [
    {
     "data": {
      "text/plain": [
       "{'names': ['Aditya', 'Manal', 'Akash', 'Mahesh'],\n",
       " 'post': ('Intern', 'TL', 'Manager', 'Asst Manager')}"
      ]
     },
     "execution_count": 86,
     "metadata": {},
     "output_type": "execute_result"
    }
   ],
   "source": [
    "d2"
   ]
  },
  {
   "cell_type": "code",
   "execution_count": 99,
   "id": "3e5432a9",
   "metadata": {},
   "outputs": [],
   "source": [
    "# adding a new key:value into a dictionary\n",
    "d2['salary']=[25,50,100,75]"
   ]
  },
  {
   "cell_type": "code",
   "execution_count": 69,
   "id": "9853f451",
   "metadata": {},
   "outputs": [
    {
     "data": {
      "text/plain": [
       "{'names': ['Aditya', 'Manal', 'Akash', 'Mahesh'],\n",
       " 'post': ('Intern', 'TL', 'Manager', 'Asst Manager'),\n",
       " 'salary': [25, 50, 100, 75]}"
      ]
     },
     "execution_count": 69,
     "metadata": {},
     "output_type": "execute_result"
    }
   ],
   "source": [
    "d2"
   ]
  },
  {
   "cell_type": "code",
   "execution_count": 70,
   "id": "8de8be77",
   "metadata": {},
   "outputs": [
    {
     "data": {
      "text/plain": [
       "[25, 50, 100, 75]"
      ]
     },
     "execution_count": 70,
     "metadata": {},
     "output_type": "execute_result"
    }
   ],
   "source": [
    "# remove  a value from a dict\n",
    "d2.pop('salary')"
   ]
  },
  {
   "cell_type": "code",
   "execution_count": 161,
   "id": "02cc34c7",
   "metadata": {},
   "outputs": [],
   "source": [
    "del d2['names']"
   ]
  },
  {
   "cell_type": "code",
   "execution_count": 160,
   "id": "2ebf43b8",
   "metadata": {},
   "outputs": [],
   "source": [
    "d2={'names':['Aditya','Shreya','Akash','Mahesh'],'post':('Intern','Employee','Manager','Asst manager')}"
   ]
  },
  {
   "cell_type": "code",
   "execution_count": 162,
   "id": "51971e31",
   "metadata": {},
   "outputs": [
    {
     "data": {
      "text/plain": [
       "{'post': ('Intern', 'Employee', 'Manager', 'Asst manager')}"
      ]
     },
     "execution_count": 162,
     "metadata": {},
     "output_type": "execute_result"
    }
   ],
   "source": [
    "d2"
   ]
  },
  {
   "cell_type": "code",
   "execution_count": 107,
   "id": "ed0b3e62",
   "metadata": {},
   "outputs": [
    {
     "ename": "KeyError",
     "evalue": "'popitem(): dictionary is empty'",
     "output_type": "error",
     "traceback": [
      "\u001b[1;31m---------------------------------------------------------------------------\u001b[0m",
      "\u001b[1;31mKeyError\u001b[0m                                  Traceback (most recent call last)",
      "\u001b[1;32m<ipython-input-107-43d12dbc0529>\u001b[0m in \u001b[0;36m<module>\u001b[1;34m\u001b[0m\n\u001b[1;32m----> 1\u001b[1;33m \u001b[0md3\u001b[0m\u001b[1;33m=\u001b[0m\u001b[0md2\u001b[0m\u001b[1;33m.\u001b[0m\u001b[0mpopitem\u001b[0m\u001b[1;33m(\u001b[0m\u001b[1;33m)\u001b[0m\u001b[1;33m\u001b[0m\u001b[1;33m\u001b[0m\u001b[0m\n\u001b[0m\u001b[0;32m      2\u001b[0m \u001b[0md2\u001b[0m\u001b[1;33m\u001b[0m\u001b[1;33m\u001b[0m\u001b[0m\n",
      "\u001b[1;31mKeyError\u001b[0m: 'popitem(): dictionary is empty'"
     ]
    }
   ],
   "source": [
    "d3=d2.popitem()\n"
   ]
  },
  {
   "cell_type": "code",
   "execution_count": 111,
   "id": "aa51fbd3",
   "metadata": {},
   "outputs": [
    {
     "data": {
      "text/plain": [
       "('salary', [25, 50, 100, 75])"
      ]
     },
     "execution_count": 111,
     "metadata": {},
     "output_type": "execute_result"
    }
   ],
   "source": [
    "d3\n"
   ]
  },
  {
   "cell_type": "code",
   "execution_count": 110,
   "id": "8fe3705d",
   "metadata": {},
   "outputs": [
    {
     "name": "stdout",
     "output_type": "stream",
     "text": [
      "<class 'tuple'>\n"
     ]
    }
   ],
   "source": [
    "print(type(d3))"
   ]
  },
  {
   "cell_type": "code",
   "execution_count": 103,
   "id": "212e9c3e",
   "metadata": {},
   "outputs": [],
   "source": [
    "d4=d2.popitem()"
   ]
  },
  {
   "cell_type": "code",
   "execution_count": 104,
   "id": "2011356f",
   "metadata": {},
   "outputs": [
    {
     "data": {
      "text/plain": [
       "('post', ('Intern', 'Employee', 'Manager', 'Asst manager'))"
      ]
     },
     "execution_count": 104,
     "metadata": {},
     "output_type": "execute_result"
    }
   ],
   "source": [
    "d4"
   ]
  },
  {
   "cell_type": "code",
   "execution_count": 105,
   "id": "a142b2cc",
   "metadata": {},
   "outputs": [],
   "source": [
    "d5=d2.popitem()"
   ]
  },
  {
   "cell_type": "code",
   "execution_count": 106,
   "id": "82d4e14a",
   "metadata": {},
   "outputs": [
    {
     "data": {
      "text/plain": [
       "('names', ['Aditya', 'Shreya', 'Akash', 'Mahesh'])"
      ]
     },
     "execution_count": 106,
     "metadata": {},
     "output_type": "execute_result"
    }
   ],
   "source": [
    "d5"
   ]
  },
  {
   "cell_type": "code",
   "execution_count": 108,
   "id": "40021f34",
   "metadata": {},
   "outputs": [
    {
     "data": {
      "text/plain": [
       "{}"
      ]
     },
     "execution_count": 108,
     "metadata": {},
     "output_type": "execute_result"
    }
   ],
   "source": [
    "d2"
   ]
  },
  {
   "cell_type": "code",
   "execution_count": null,
   "id": "82fbee5f",
   "metadata": {},
   "outputs": [],
   "source": [
    "# Set-> unordered, unindexed list of unique elements\n",
    "# Syntax: varname={elements}"
   ]
  },
  {
   "cell_type": "code",
   "execution_count": 126,
   "id": "a0a9d30b",
   "metadata": {},
   "outputs": [],
   "source": [
    "s1={1,False,True,0,1,2,3,4,5,'python',86.7,99.9,'python',99.9,True,False,0}"
   ]
  },
  {
   "cell_type": "code",
   "execution_count": 127,
   "id": "00955920",
   "metadata": {},
   "outputs": [
    {
     "data": {
      "text/plain": [
       "set"
      ]
     },
     "execution_count": 127,
     "metadata": {},
     "output_type": "execute_result"
    }
   ],
   "source": [
    "type(s1)"
   ]
  },
  {
   "cell_type": "code",
   "execution_count": 128,
   "id": "f5d2e184",
   "metadata": {},
   "outputs": [
    {
     "data": {
      "text/plain": [
       "{1, 2, 3, 4, 5, 86.7, 99.9, False, 'python'}"
      ]
     },
     "execution_count": 128,
     "metadata": {},
     "output_type": "execute_result"
    }
   ],
   "source": [
    "s1"
   ]
  },
  {
   "cell_type": "code",
   "execution_count": 136,
   "id": "d66995ce",
   "metadata": {},
   "outputs": [],
   "source": [
    "s1.add('Aditya')"
   ]
  },
  {
   "cell_type": "code",
   "execution_count": 137,
   "id": "b7b5471d",
   "metadata": {},
   "outputs": [
    {
     "data": {
      "text/plain": [
       "{1, 2, 3, 4, 5, 86.7, 99.9, 'Aditya', False, 'python'}"
      ]
     },
     "execution_count": 137,
     "metadata": {},
     "output_type": "execute_result"
    }
   ],
   "source": [
    "s1"
   ]
  },
  {
   "cell_type": "code",
   "execution_count": 138,
   "id": "4f1fa68e",
   "metadata": {},
   "outputs": [],
   "source": [
    "s1.remove('Aditya')"
   ]
  },
  {
   "cell_type": "code",
   "execution_count": 139,
   "id": "0a544fda",
   "metadata": {},
   "outputs": [
    {
     "data": {
      "text/plain": [
       "{1, 2, 3, 4, 5, 86.7, 99.9, False, 'python'}"
      ]
     },
     "execution_count": 139,
     "metadata": {},
     "output_type": "execute_result"
    }
   ],
   "source": [
    "s1"
   ]
  },
  {
   "cell_type": "code",
   "execution_count": null,
   "id": "ba499327",
   "metadata": {},
   "outputs": [],
   "source": [
    "# Conditional Statements-> Statement executed based on a condition evaluated\n",
    "# Statements that are used to evaluate a condition to true or false\n",
    "# Types\n",
    "# simple if\n",
    "# if else\n",
    "# multiple ifs\n",
    "# if elif else\n",
    "# nested if else\n"
   ]
  },
  {
   "cell_type": "code",
   "execution_count": null,
   "id": "4f1d45fd",
   "metadata": {},
   "outputs": [],
   "source": [
    "# simple if\n",
    "# Syntax: if(condition):\n",
    "           #statement"
   ]
  },
  {
   "cell_type": "code",
   "execution_count": 146,
   "id": "1ea1717b",
   "metadata": {},
   "outputs": [
    {
     "name": "stdout",
     "output_type": "stream",
     "text": [
      "0\n"
     ]
    }
   ],
   "source": [
    "x=int(input())          # x=5\n",
    "if(x>1):                # x>1=> 5>1= True             \n",
    "    print('x is greater than 1')"
   ]
  },
  {
   "cell_type": "code",
   "execution_count": null,
   "id": "94563a76",
   "metadata": {},
   "outputs": [],
   "source": [
    "# if else\n",
    "# Syntax: if(condition):\n",
    "             # statements\n",
    "    #     else:\n",
    "             # statements"
   ]
  },
  {
   "cell_type": "code",
   "execution_count": 151,
   "id": "855f292f",
   "metadata": {},
   "outputs": [
    {
     "name": "stdout",
     "output_type": "stream",
     "text": [
      "20\n",
      "30\n",
      "b is greater 30\n"
     ]
    }
   ],
   "source": [
    "# Check for the greater num\n",
    "a=int(input())        # a=20\n",
    "b=int(input())        # b=30\n",
    "if(a>b):             # a>b=> 20>30= False\n",
    "    print('a is greater',a)\n",
    "else:\n",
    "    print('b is greater',b)"
   ]
  },
  {
   "cell_type": "code",
   "execution_count": null,
   "id": "4d3e57fd",
   "metadata": {},
   "outputs": [],
   "source": [
    "# multiple if\n",
    "# SYntax: if(condition1):\n",
    "#               statements\n",
    "#         if(conidtion2):\n",
    "#               statements\n",
    "#         if(condition3):\n",
    "#             statements\n",
    "#         else:\n",
    "#             statements"
   ]
  },
  {
   "cell_type": "code",
   "execution_count": 158,
   "id": "4f828604",
   "metadata": {},
   "outputs": [
    {
     "name": "stdout",
     "output_type": "stream",
     "text": [
      "20\n",
      "30\n",
      "b is greater 30\n",
      "invalid input\n"
     ]
    }
   ],
   "source": [
    "a=int(input())        # a=30\n",
    "b=int(input())        # b=20\n",
    "if(a>b):             # a>b=> 30>20= True\n",
    "    print('a is greater',a)\n",
    "if(b>a):             # 20>30= False\n",
    "    print('b is greater',b)\n",
    "if(a==b):            # 30==20=False\n",
    "    print('both are equal')\n",
    "else:\n",
    "    print('invalid input')"
   ]
  },
  {
   "cell_type": "code",
   "execution_count": null,
   "id": "cebb988f",
   "metadata": {},
   "outputs": [],
   "source": [
    "# if elif else-> \n",
    "# elif-> combination of else if\n",
    "# Syntax: if(condition1):\n",
    "#              task1\n",
    "#         elif(condition2):\n",
    "#              task2\n",
    "#         elif(condition3):\n",
    "#              task3 \n",
    "#         else:\n",
    "#              task4"
   ]
  },
  {
   "cell_type": "code",
   "execution_count": 1,
   "id": "42230355",
   "metadata": {},
   "outputs": [
    {
     "name": "stdout",
     "output_type": "stream",
     "text": [
      "23\n",
      "34\n",
      "b is greater 34\n"
     ]
    }
   ],
   "source": [
    "a=int(input())        # a=23\n",
    "b=int(input())        # b=34\n",
    "if(a>b):             # a>b=> 23>34= false\n",
    "    print('a is greater',a)\n",
    "elif(b>a):             # 34>23= True\n",
    "    print('b is greater',b)\n",
    "elif(a==b):            # 30==20=False\n",
    "    print('both are equal')\n",
    "else:\n",
    "    print('invalid input')"
   ]
  },
  {
   "cell_type": "code",
   "execution_count": null,
   "id": "18fcb69b",
   "metadata": {},
   "outputs": [],
   "source": [
    "# nested if else-> conditions within conditions\n",
    "# Syntax: if(condition1):\n",
    "#             if(condition2):   \n",
    "#                  task2\n",
    "#             else:\n",
    "#                  task3\n",
    "#         else:\n",
    "#             task4"
   ]
  },
  {
   "cell_type": "code",
   "execution_count": 5,
   "id": "757ac053",
   "metadata": {},
   "outputs": [
    {
     "name": "stdout",
     "output_type": "stream",
     "text": [
      "enter a number 0 \n",
      "the number is zero\n"
     ]
    }
   ],
   "source": [
    "# check whether a num is 0, positive, negative\n",
    "num=int(input('enter a number'))\n",
    "if(num>=0):\n",
    "    if(num==0):\n",
    "        print('the number is zero')\n",
    "    else:\n",
    "        print('the number is positive')\n",
    "else:\n",
    "    print('the number negative')\n"
   ]
  },
  {
   "cell_type": "code",
   "execution_count": null,
   "id": "8dde432f",
   "metadata": {},
   "outputs": [],
   "source": [
    "n1=int(input('enter the first number'))\n",
    "n2=int(input('enter the second number'))\n",
    "n3=int(input('enter the third number'))\n",
    "if(n1>n2):\n",
    "    if(n1>n3):\n",
    "        print(n1,'is greatest')\n",
    "    elif(n1<n3):\n",
    "        print(n3, 'is greatest')\n",
    "elif(n1<n2):\n",
    "    if(n2>n3):\n",
    "        print(n2,' is greatest')\n",
    "    elif(n2<n3):\n",
    "        print(n3, 'is greatest')\n",
    "else:\n",
    "    print('all are equal')"
   ]
  },
  {
   "cell_type": "code",
   "execution_count": 8,
   "id": "f22d3220",
   "metadata": {},
   "outputs": [
    {
     "name": "stdout",
     "output_type": "stream",
     "text": [
      "enter no.1:\n",
      "30\n",
      "enter no.2:\n",
      "21\n",
      "enter no.3:\n",
      "12\n",
      "30  is the greatest\n"
     ]
    }
   ],
   "source": [
    "a=int(input(\"enter no.1:\\n\"))\n",
    "b=int(input(\"enter no.2:\\n\"))\n",
    "c=int(input(\"enter no.3:\\n\"))\n",
    "if(a>b):\n",
    "    if(a>c):\n",
    "        print(a,\" is the greatest\")\n",
    "    elif(c>a):\n",
    "        print(c,\" is the greatest\")\n",
    "    else:\n",
    "        print(a,\" is the greatest\")\n",
    "elif (b>a):\n",
    "    if(b>c):\n",
    "        print(b,\" is the greatest\")\n",
    "    elif(c>a):\n",
    "        print(c,\" is the greatest\")\n",
    "elif(a==b==c):\n",
    "    print(a,'all are equal')        \n",
    "elif(a==b):\n",
    "    if(a>c):\n",
    "        print(a,\" is the greatest\")\n",
    "    else:\n",
    "        print(c,\" is the greatest\")\n",
    "elif(b==c):\n",
    "    if(a>c):\n",
    "        print(a,\" is the greatest\")\n",
    "    else:\n",
    "        print(c,\" is the greatest\")\n",
    "elif(a==c):\n",
    "    if(b>c):\n",
    "        print(b,\" is the greatest\")\n",
    "    else:\n",
    "        print(c,\" is the greatest\")\n",
    "\n",
    "else:\n",
    "    print(\"all are equal\")"
   ]
  },
  {
   "cell_type": "code",
   "execution_count": 11,
   "id": "e55b12d5",
   "metadata": {},
   "outputs": [
    {
     "name": "stdout",
     "output_type": "stream",
     "text": [
      "enter the first number12\n",
      "enter the second number12\n",
      "enter the third number12\n",
      "n1 is the greatest\n"
     ]
    }
   ],
   "source": [
    "n1=int(input('enter the first number'))\n",
    "n2=int(input('enter the second number'))\n",
    "n3=int(input('enter the third number'))\n",
    "if(n1>=n2) and (n1>=n3):\n",
    "    print('n1 is the greatest')\n",
    "elif(n2>=n1) and (n2>=n3):\n",
    "    print('n2 is greatest')\n",
    "elif(n1==n2==n3):\n",
    "    print('all are equal')\n",
    "else:\n",
    "    print('n3 is greatest')"
   ]
  },
  {
   "cell_type": "code",
   "execution_count": null,
   "id": "56a5cc55",
   "metadata": {},
   "outputs": [],
   "source": [
    "# Looping Statements-> Statements that will allow to perform same set of task multiple number of times \n",
    "# based on a condition\n",
    "# for loop-> tyo work with range type of data\n",
    "# while-> to work with the conditional data"
   ]
  },
  {
   "cell_type": "code",
   "execution_count": 18,
   "id": "6730de90",
   "metadata": {},
   "outputs": [
    {
     "data": {
      "text/plain": [
       "range(0, 11)"
      ]
     },
     "execution_count": 18,
     "metadata": {},
     "output_type": "execute_result"
    }
   ],
   "source": [
    "# for loop:\n",
    "# SYntax: for iterating_var in range:\n",
    "              # task/statements\n",
    "# iterating_var-> travelling variable which will look into the defined range and \n",
    "# fetches every value in the range\n",
    "# range()-> inbuilt function which will create a range of defined values\n",
    "   # Syntax: range(start,end+1,interval)\n",
    "range(0,11,2)  # 0,1,2,3,4,5,6,7,8,9,10  \n",
    "range(11)"
   ]
  },
  {
   "cell_type": "code",
   "execution_count": 16,
   "id": "e9378056",
   "metadata": {},
   "outputs": [
    {
     "name": "stdout",
     "output_type": "stream",
     "text": [
      "python 0\n",
      "python 1\n",
      "python 2\n",
      "python 3\n",
      "python 4\n"
     ]
    }
   ],
   "source": [
    "# print 'python' 5 times\n",
    "for i in range(0,5):  # 0 1 2 3 4    # i=5\n",
    "    print('python',i)"
   ]
  },
  {
   "cell_type": "code",
   "execution_count": 17,
   "id": "b9762402",
   "metadata": {},
   "outputs": [
    {
     "data": {
      "text/plain": [
       "6"
      ]
     },
     "execution_count": 17,
     "metadata": {},
     "output_type": "execute_result"
    }
   ],
   "source": [
    "# to add 7 to each element in a given list\n",
    "l1=[10,20,30,40,50,60]\n",
    " #  0  1  2  3  4  5\n",
    "len(l1)    "
   ]
  },
  {
   "cell_type": "code",
   "execution_count": 24,
   "id": "70ce51b7",
   "metadata": {},
   "outputs": [
    {
     "name": "stdout",
     "output_type": "stream",
     "text": [
      "[17, 20, 30, 47, 50, 60, 77, 80, 90, 107, 110]\n"
     ]
    }
   ],
   "source": [
    "l1=[10,20,30,40,50,60,70,80,90,100,110]\n",
    "for x in range(0,10,3):  # 0 1 2 3 4 5  x=1\n",
    "    l1[x]=l1[x]+7         # l1[1]=l1[1]+7-> 20+7=27=l1[1]\n",
    "print(l1)    "
   ]
  },
  {
   "cell_type": "code",
   "execution_count": null,
   "id": "e6fb7667",
   "metadata": {},
   "outputs": [],
   "source": [
    "# while loop\n",
    "# Syntax: \n",
    "# iterate_var=initialize\n",
    "# while(condition is true):\n",
    "#     task/statements\n",
    "#     incrementation\n"
   ]
  },
  {
   "cell_type": "code",
   "execution_count": 31,
   "id": "b0a4abaa",
   "metadata": {},
   "outputs": [
    {
     "name": "stdout",
     "output_type": "stream",
     "text": [
      "python 0\n",
      "python 1\n",
      "python 2\n",
      "python 3\n",
      "python 4\n"
     ]
    }
   ],
   "source": [
    "# print python 5 times\n",
    "i=0\n",
    "while(i<5):\n",
    "    print('python',i)\n",
    "    i+=1"
   ]
  },
  {
   "cell_type": "code",
   "execution_count": 32,
   "id": "924e70f0",
   "metadata": {},
   "outputs": [
    {
     "name": "stdout",
     "output_type": "stream",
     "text": [
      "[17, 27, 37, 47, 57, 67]\n"
     ]
    }
   ],
   "source": [
    "l1=[10,20,30,40,50,60]\n",
    "x=0\n",
    "while(x<len(l1)):\n",
    "    l1[x]+=7\n",
    "    x=x+1\n",
    "print(l1)    \n",
    "    "
   ]
  },
  {
   "cell_type": "code",
   "execution_count": null,
   "id": "1e3d6b60",
   "metadata": {},
   "outputs": [],
   "source": [
    "# Functions-> block of code designed to perform a specific task\n",
    "# Inbuilt functions-> pre-defined set of task to perform-> print(), range(),len(),input(),int()\n",
    "# Lambda function"
   ]
  },
  {
   "cell_type": "code",
   "execution_count": null,
   "id": "90ad7b15",
   "metadata": {},
   "outputs": [],
   "source": [
    "# User-defined functions-> to create or define own set of task\n",
    "# Syntax: to define function\n",
    "# def function_name(arguments):\n",
    "#        task/statements\n",
    "\n",
    "# to call/invoke function\n",
    "# function_name(value for arguments)"
   ]
  },
  {
   "cell_type": "code",
   "execution_count": 37,
   "id": "5f1ae979",
   "metadata": {},
   "outputs": [
    {
     "name": "stdout",
     "output_type": "stream",
     "text": [
      "23\n",
      "number is odd\n"
     ]
    }
   ],
   "source": [
    "# check whether a given number is even or odd\n",
    "def even_odd():\n",
    "    num=int(input())\n",
    "    if(num%2==0):\n",
    "        print('number is even')\n",
    "    else:\n",
    "        print('number is odd')\n",
    "even_odd()        "
   ]
  },
  {
   "cell_type": "code",
   "execution_count": 42,
   "id": "40372cee",
   "metadata": {},
   "outputs": [
    {
     "data": {
      "text/plain": [
       "120"
      ]
     },
     "execution_count": 42,
     "metadata": {},
     "output_type": "execute_result"
    }
   ],
   "source": [
    "# to calculate the factorial of a number\n",
    "def factorial(num): # num=5\n",
    "    if num<0:       # 5<0-> false\n",
    "        return 0\n",
    "    elif num==0 or num==1:  # 5==0 or 5==1  -> false\n",
    "        return 1\n",
    "    else:\n",
    "        fact=1  \n",
    "        while(num>1):       # 1>1=false\n",
    "            fact=fact*num   # 60*2=120=fact\n",
    "            num=num-1       # 2-1=1=num\n",
    "        return fact  \n",
    "factorial(5)    \n",
    "# 5*4*3*2*1"
   ]
  },
  {
   "cell_type": "code",
   "execution_count": 43,
   "id": "5feedaa0",
   "metadata": {},
   "outputs": [],
   "source": [
    "# return statement-> used to exit from a function and go back to the function caller and return a specified value or \n",
    "# data to the caller\n",
    "# it can contain a varaiable, an expression, a value which is to be returned toward the \n",
    "# end of function execution\n",
    "# infinite number of arguments-> *args-> non keywords\n",
    "#                                **kwargs-> keyword arguments"
   ]
  },
  {
   "cell_type": "code",
   "execution_count": null,
   "id": "82e79275",
   "metadata": {},
   "outputs": [],
   "source": [
    "# lambda function-> anonymous/nameless function \n",
    "# function definition is stored in a variable\n",
    "# function call is made using the variable name\n",
    "# only line of expression is allowed\n",
    "# keyword lambda is used"
   ]
  },
  {
   "cell_type": "code",
   "execution_count": null,
   "id": "22953843",
   "metadata": {},
   "outputs": [],
   "source": [
    "# Syntax: var_name=lambda arg_variables:task"
   ]
  },
  {
   "cell_type": "code",
   "execution_count": 45,
   "id": "ad224cd7",
   "metadata": {},
   "outputs": [
    {
     "data": {
      "text/plain": [
       "6"
      ]
     },
     "execution_count": 45,
     "metadata": {},
     "output_type": "execute_result"
    }
   ],
   "source": [
    "adder=lambda a,b,c:a+b+c\n",
    "adder(1,2,3)"
   ]
  },
  {
   "cell_type": "code",
   "execution_count": 46,
   "id": "1780e654",
   "metadata": {},
   "outputs": [
    {
     "data": {
      "text/plain": [
       "100"
      ]
     },
     "execution_count": 46,
     "metadata": {},
     "output_type": "execute_result"
    }
   ],
   "source": [
    "square=lambda x:x*x\n",
    "square(10)"
   ]
  },
  {
   "cell_type": "code",
   "execution_count": 56,
   "id": "373ab041",
   "metadata": {},
   "outputs": [
    {
     "data": {
      "text/plain": [
       "120"
      ]
     },
     "execution_count": 56,
     "metadata": {},
     "output_type": "execute_result"
    }
   ],
   "source": [
    "fact= lambda num:1 if num==0 else num*fact(num-1)\n",
    "fact(5)"
   ]
  },
  {
   "cell_type": "code",
   "execution_count": null,
   "id": "d2e56cdb",
   "metadata": {},
   "outputs": [],
   "source": []
  },
  {
   "cell_type": "code",
   "execution_count": null,
   "id": "ab33fe23",
   "metadata": {},
   "outputs": [],
   "source": []
  }
 ],
 "metadata": {
  "kernelspec": {
   "display_name": "Python 3",
   "language": "python",
   "name": "python3"
  },
  "language_info": {
   "codemirror_mode": {
    "name": "ipython",
    "version": 3
   },
   "file_extension": ".py",
   "mimetype": "text/x-python",
   "name": "python",
   "nbconvert_exporter": "python",
   "pygments_lexer": "ipython3",
   "version": "3.8.8"
  }
 },
 "nbformat": 4,
 "nbformat_minor": 5
}
